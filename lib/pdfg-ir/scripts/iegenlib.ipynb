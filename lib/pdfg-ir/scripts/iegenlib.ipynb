{
 "cells": [
  {
   "cell_type": "code",
   "execution_count": 8,
   "metadata": {},
   "outputs": [
    {
     "name": "stdout",
     "output_type": "stream",
     "text": [
      "Idense := { [i, k, j] : k - col(j) = 0 && i >= 0 && k >= 0 && index(i) >= 0 && j - index(i) >= 0 && NNZ - index(i + 1) >= 0 && -i + N_R - 1 >= 0 && -k + N_C - 1 >= 0 && -j + index(i + 1) - 1 >= 0 }\n"
     ]
    },
    {
     "ename": "RuntimeError",
     "evalue": "syntax error, unexpected EXISTS, expecting SEMI at 'exists', line 1\n",
     "output_type": "error",
     "traceback": [
      "\u001b[0;31m---------------------------------------------------------------------------\u001b[0m",
      "\u001b[0;31mRuntimeError\u001b[0m                              Traceback (most recent call last)",
      "\u001b[0;32m<ipython-input-8-d8991ae93871>\u001b[0m in \u001b[0;36m<module>\u001b[0;34m()\u001b[0m\n\u001b[1;32m      9\u001b[0m \u001b[0;34m\u001b[0m\u001b[0m\n\u001b[1;32m     10\u001b[0m \u001b[0miegen\u001b[0m\u001b[0;34m.\u001b[0m\u001b[0madd\u001b[0m\u001b[0;34m(\u001b[0m\u001b[0;34m'Ttile := {[i,k,j] -> [ii,kk,i,k,j]: exists(ri,ck: 0 <= ri < 8 && i = ii*8+ri && 0 <= ck < 8 && k = kk*8+ck)}'\u001b[0m\u001b[0;34m)\u001b[0m\u001b[0;34m\u001b[0m\u001b[0m\n\u001b[0;32m---> 11\u001b[0;31m \u001b[0mresult\u001b[0m \u001b[0;34m=\u001b[0m \u001b[0miegen\u001b[0m\u001b[0;34m.\u001b[0m\u001b[0mapply\u001b[0m\u001b[0;34m(\u001b[0m\u001b[0;34m'Ttile'\u001b[0m\u001b[0;34m,\u001b[0m \u001b[0;34m'Idense'\u001b[0m\u001b[0;34m,\u001b[0m \u001b[0;34m'Itile'\u001b[0m\u001b[0;34m)\u001b[0m\u001b[0;34m\u001b[0m\u001b[0m\n\u001b[0m\u001b[1;32m     12\u001b[0m \u001b[0mprint\u001b[0m\u001b[0;34m(\u001b[0m\u001b[0mresult\u001b[0m\u001b[0;34m)\u001b[0m\u001b[0;34m\u001b[0m\u001b[0m\n\u001b[1;32m     13\u001b[0m \u001b[0;34m\u001b[0m\u001b[0m\n",
      "\u001b[0;32m/home/edavis/Work/VarDevEddie/scripts/codegen/iegenlib.py\u001b[0m in \u001b[0;36mapply\u001b[0;34m(self, relname, setname, resname)\u001b[0m\n\u001b[1;32m    103\u001b[0m \u001b[0;34m\u001b[0m\u001b[0m\n\u001b[1;32m    104\u001b[0m     \u001b[0;32mdef\u001b[0m \u001b[0m__getitem__\u001b[0m\u001b[0;34m(\u001b[0m\u001b[0mself\u001b[0m\u001b[0;34m,\u001b[0m \u001b[0mkey\u001b[0m\u001b[0;34m)\u001b[0m\u001b[0;34m:\u001b[0m\u001b[0;34m\u001b[0m\u001b[0m\n\u001b[0;32m--> 105\u001b[0;31m         \u001b[0;32mif\u001b[0m \u001b[0mkey\u001b[0m \u001b[0;32min\u001b[0m \u001b[0mself\u001b[0m\u001b[0;34m.\u001b[0m\u001b[0m_relations\u001b[0m\u001b[0;34m:\u001b[0m\u001b[0;34m\u001b[0m\u001b[0m\n\u001b[0m\u001b[1;32m    106\u001b[0m             \u001b[0;32mreturn\u001b[0m \u001b[0mself\u001b[0m\u001b[0;34m.\u001b[0m\u001b[0m_relations\u001b[0m\u001b[0;34m[\u001b[0m\u001b[0mkey\u001b[0m\u001b[0;34m]\u001b[0m\u001b[0;34m\u001b[0m\u001b[0m\n\u001b[1;32m    107\u001b[0m         \u001b[0;32melse\u001b[0m\u001b[0;34m:\u001b[0m\u001b[0;34m\u001b[0m\u001b[0m\n",
      "\u001b[0;32m/home/edavis/Work/VarDevEddie/scripts/codegen/iegenlib.py\u001b[0m in \u001b[0;36mapply\u001b[0;34m(self, relation, resname)\u001b[0m\n\u001b[1;32m     38\u001b[0m     \u001b[0;32mdef\u001b[0m \u001b[0mformula\u001b[0m\u001b[0;34m(\u001b[0m\u001b[0mself\u001b[0m\u001b[0;34m,\u001b[0m \u001b[0mformula\u001b[0m\u001b[0;34m)\u001b[0m\u001b[0;34m:\u001b[0m\u001b[0;34m\u001b[0m\u001b[0m\n\u001b[1;32m     39\u001b[0m         \u001b[0mself\u001b[0m\u001b[0;34m.\u001b[0m\u001b[0m_formula\u001b[0m \u001b[0;34m=\u001b[0m \u001b[0mformula\u001b[0m\u001b[0;34m\u001b[0m\u001b[0m\n\u001b[0;32m---> 40\u001b[0;31m \u001b[0;34m\u001b[0m\u001b[0m\n\u001b[0m\u001b[1;32m     41\u001b[0m     \u001b[0;34m@\u001b[0m\u001b[0mproperty\u001b[0m\u001b[0;34m\u001b[0m\u001b[0m\n\u001b[1;32m     42\u001b[0m     \u001b[0;32mdef\u001b[0m \u001b[0mname\u001b[0m\u001b[0;34m(\u001b[0m\u001b[0mself\u001b[0m\u001b[0;34m)\u001b[0m\u001b[0;34m:\u001b[0m\u001b[0;34m\u001b[0m\u001b[0m\n",
      "\u001b[0;31mRuntimeError\u001b[0m: syntax error, unexpected EXISTS, expecting SEMI at 'exists', line 1\n"
     ]
    }
   ],
   "source": [
    "from codegen.iegenlib import IEGenLib\n",
    "import islpy as isl\n",
    "\n",
    "iegen = IEGenLib()\n",
    "iegen.add('Icsr := {[i,j]: 0 <= i < N_R && index(i) <= j < index(i+1) && index(i) >= 0 && index(i+1) <= NNZ}')\n",
    "iegen.add('Tdense := {[i,j] -> [i,k,j]: 0 <= k < N_C && k = col(j)}')\n",
    "result = iegen.apply('Tdense', 'Icsr', 'Idense')\n",
    "print(result)\n",
    "\n",
    "iegen.add('Ttile := {[i,k,j] -> [ii,kk,i,k,j]: exists(ri,ck: 0 <= ri < 8 && i = ii*8+ri && 0 <= ck < 8 && k = kk*8+ck)}')\n",
    "result = iegen.apply('Ttile', 'Idense', 'Itile')\n",
    "print(result)\n",
    "\n",
    "#iegen.add('Texec := {[ii,kk,i,k,j] -> [ii,jj,i,k,j]: b_index(ii) <= jj < b_index(ii+1) && kk = b_col(jj) && b_index(i) <= NB && j = 0}')\n",
    "#result = iegen.apply('Texec', 'Itile', 'Iexec')\n",
    "#print(result)"
   ]
  },
  {
   "cell_type": "code",
   "execution_count": 7,
   "metadata": {},
   "outputs": [
    {
     "name": "stdout",
     "output_type": "stream",
     "text": [
      "Idense := { [i, k, j] : k - col(j) = 0 && i >= 0 && k >= 0 && index(i) >= 0 && j - index(i) >= 0 && NNZ - index(i + 1) >= 0 && -i + N_R - 1 >= 0 && -k + N_C - 1 >= 0 && -j + index(i + 1) - 1 >= 0 }\n"
     ]
    },
    {
     "ename": "RuntimeError",
     "evalue": "syntax error, unexpected EXISTS, expecting SEMI at 'exists', line 1\n",
     "output_type": "error",
     "traceback": [
      "\u001b[0;31m---------------------------------------------------------------------------\u001b[0m",
      "\u001b[0;31mRuntimeError\u001b[0m                              Traceback (most recent call last)",
      "\u001b[0;32m<ipython-input-7-d8991ae93871>\u001b[0m in \u001b[0;36m<module>\u001b[0;34m()\u001b[0m\n\u001b[1;32m      9\u001b[0m \u001b[0;34m\u001b[0m\u001b[0m\n\u001b[1;32m     10\u001b[0m \u001b[0miegen\u001b[0m\u001b[0;34m.\u001b[0m\u001b[0madd\u001b[0m\u001b[0;34m(\u001b[0m\u001b[0;34m'Ttile := {[i,k,j] -> [ii,kk,i,k,j]: exists(ri,ck: 0 <= ri < 8 && i = ii*8+ri && 0 <= ck < 8 && k = kk*8+ck)}'\u001b[0m\u001b[0;34m)\u001b[0m\u001b[0;34m\u001b[0m\u001b[0m\n\u001b[0;32m---> 11\u001b[0;31m \u001b[0mresult\u001b[0m \u001b[0;34m=\u001b[0m \u001b[0miegen\u001b[0m\u001b[0;34m.\u001b[0m\u001b[0mapply\u001b[0m\u001b[0;34m(\u001b[0m\u001b[0;34m'Ttile'\u001b[0m\u001b[0;34m,\u001b[0m \u001b[0;34m'Idense'\u001b[0m\u001b[0;34m,\u001b[0m \u001b[0;34m'Itile'\u001b[0m\u001b[0;34m)\u001b[0m\u001b[0;34m\u001b[0m\u001b[0m\n\u001b[0m\u001b[1;32m     12\u001b[0m \u001b[0mprint\u001b[0m\u001b[0;34m(\u001b[0m\u001b[0mresult\u001b[0m\u001b[0;34m)\u001b[0m\u001b[0;34m\u001b[0m\u001b[0m\n\u001b[1;32m     13\u001b[0m \u001b[0;34m\u001b[0m\u001b[0m\n",
      "\u001b[0;32m/home/edavis/Work/VarDevEddie/scripts/codegen/iegenlib.py\u001b[0m in \u001b[0;36mapply\u001b[0;34m(self, relname, setname, resname)\u001b[0m\n\u001b[1;32m    103\u001b[0m \u001b[0;34m\u001b[0m\u001b[0m\n\u001b[1;32m    104\u001b[0m     \u001b[0;34m@\u001b[0m\u001b[0mproperty\u001b[0m\u001b[0;34m\u001b[0m\u001b[0m\n\u001b[0;32m--> 105\u001b[0;31m     \u001b[0;32mdef\u001b[0m \u001b[0msets\u001b[0m\u001b[0;34m(\u001b[0m\u001b[0mself\u001b[0m\u001b[0;34m)\u001b[0m\u001b[0;34m:\u001b[0m\u001b[0;34m\u001b[0m\u001b[0m\n\u001b[0m\u001b[1;32m    106\u001b[0m         \u001b[0;32mreturn\u001b[0m \u001b[0mself\u001b[0m\u001b[0;34m.\u001b[0m\u001b[0m_sets\u001b[0m\u001b[0;34m.\u001b[0m\u001b[0mvalues\u001b[0m\u001b[0;34m(\u001b[0m\u001b[0;34m)\u001b[0m\u001b[0;34m\u001b[0m\u001b[0m\n\u001b[1;32m    107\u001b[0m \u001b[0;34m\u001b[0m\u001b[0m\n",
      "\u001b[0;32m/home/edavis/Work/VarDevEddie/scripts/codegen/iegenlib.py\u001b[0m in \u001b[0;36mapply\u001b[0;34m(self, relation, resname)\u001b[0m\n\u001b[1;32m     38\u001b[0m         \u001b[0msuper\u001b[0m\u001b[0;34m(\u001b[0m\u001b[0;34m)\u001b[0m\u001b[0;34m.\u001b[0m\u001b[0m__init__\u001b[0m\u001b[0;34m(\u001b[0m\u001b[0mformula\u001b[0m\u001b[0;34m,\u001b[0m \u001b[0mname\u001b[0m\u001b[0;34m)\u001b[0m\u001b[0;34m\u001b[0m\u001b[0m\n\u001b[1;32m     39\u001b[0m \u001b[0;34m\u001b[0m\u001b[0m\n\u001b[0;32m---> 40\u001b[0;31m     \u001b[0;34m@\u001b[0m\u001b[0mproperty\u001b[0m\u001b[0;34m\u001b[0m\u001b[0m\n\u001b[0m\u001b[1;32m     41\u001b[0m     \u001b[0;32mdef\u001b[0m \u001b[0miterators\u001b[0m\u001b[0;34m(\u001b[0m\u001b[0mself\u001b[0m\u001b[0;34m)\u001b[0m\u001b[0;34m:\u001b[0m\u001b[0;34m\u001b[0m\u001b[0m\n\u001b[1;32m     42\u001b[0m         \u001b[0miters\u001b[0m \u001b[0;34m=\u001b[0m \u001b[0;34m[\u001b[0m\u001b[0;34m]\u001b[0m\u001b[0;34m\u001b[0m\u001b[0m\n",
      "\u001b[0;31mRuntimeError\u001b[0m: syntax error, unexpected EXISTS, expecting SEMI at 'exists', line 1\n"
     ]
    }
   ],
   "source": [
    "from codegen.iegenlib import IEGenLib\n",
    "import islpy as isl\n",
    "\n",
    "iegen = IEGenLib()\n",
    "iegen.add('Idmm := {[i,j,k]: 0 <= i < N && 0 <= j < N && 0 <= k < N}')\n",
    "iegen.add('Tdense := {[i,j] -> [i,k,j]: 0 <= k < N_C && k = col(j)}')\n",
    "result = iegen.apply('Tdense', 'Icsr', 'Idense')\n",
    "print(result)\n",
    "\n",
    "iegen.add('Ttile := {[i,k,j] -> [ii,kk,i,k,j]: exists(ri,ck: 0 <= ri < 8 && i = ii*8+ri && 0 <= ck < 8 && k = kk*8+ck)}')\n",
    "result = iegen.apply('Ttile', 'Idense', 'Itile')\n",
    "print(result)\n",
    "\n",
    "#iegen.add('Texec := {[ii,kk,i,k,j] -> [ii,jj,i,k,j]: b_index(ii) <= jj < b_index(ii+1) && kk = b_col(jj) && b_index(i) <= NB && j = 0}')\n",
    "#result = iegen.apply('Texec', 'Itile', 'Iexec')\n",
    "#print(result)"
   ]
  },
  {
   "cell_type": "code",
   "execution_count": null,
   "metadata": {
    "collapsed": true
   },
   "outputs": [],
   "source": []
  }
 ],
 "metadata": {
  "kernelspec": {
   "display_name": "Python 3",
   "language": "python",
   "name": "python3"
  },
  "language_info": {
   "codemirror_mode": {
    "name": "ipython",
    "version": 3
   },
   "file_extension": ".py",
   "mimetype": "text/x-python",
   "name": "python",
   "nbconvert_exporter": "python",
   "pygments_lexer": "ipython3",
   "version": "3.5.2"
  }
 },
 "nbformat": 4,
 "nbformat_minor": 2
}
