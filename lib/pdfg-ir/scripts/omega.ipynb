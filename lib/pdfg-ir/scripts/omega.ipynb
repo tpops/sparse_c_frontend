{
 "cells": [
  {
   "cell_type": "code",
   "execution_count": 51,
   "metadata": {
    "scrolled": true
   },
   "outputs": [
    {
     "name": "stdout",
     "output_type": "stream",
     "text": [
      "Output:\n",
      "================================================================================================\n",
      "\n",
      ">>> #symbolic NNZ,N_R,index(1),index1(1);\n",
      ">>> #spmv := {[i,j]:0<=i<N_R&&index(i)<=j<index1(i)};\n",
      ">>> #codegen(spmv) given {[i,j]: index(i)>=0&&NNZ>0&&NNZ>=index1(i)};\n",
      ">>> symbolic N_C,N_R,b_col(2),b_row(1),b_row1(1);\n",
      ">>> Iexec := {[ii,jj,i,k]:exists(ri,ck:0<=ri<8&&i=ii*8+ri&&0<=ck<8&&k=b_col(ii,jj)*8+ck)&&b_row(ii)<=jj<b_row1(ii)&&i>=0&&k>=0&&-i+N_R-1>=0&&-k+N_C-1>=0};\n",
      ">>> codegen(Iexec) given {[ii,jj,i,k]: b_col(ii,jj)>=0&&N_C>0&&N_C>8*b_col(ii,jj)};\n",
      "for(t1 = 0; t1 <= intFloor(N_R-1,8); t1++) {\n",
      "  for(t2 = b_row(t1); t2 <= b_row1(t1)-1; t2++) {\n",
      "    for(t3 = 8*t1; t3 <= min(N_R-1,8*t1+7); t3++) {\n",
      "      for(t4 = 8*b_col(t1,t2); t4 <= min(8*b_col(t1,t2)+7,N_C-1); t4++) {\n",
      "        s0(t1,t2,t3,t4);\n",
      "      }\n",
      "    }\n",
      "  }\n",
      "}\n",
      "\n",
      ">>> \n",
      "\n"
     ]
    },
    {
     "data": {
      "text/plain": [
       "('>>> #symbolic NNZ,N_R,index(1),index1(1);\\n>>> #spmv := {[i,j]:0<=i<N_R&&index(i)<=j<index1(i)};\\n>>> #codegen(spmv) given {[i,j]: index(i)>=0&&NNZ>0&&NNZ>=index1(i)};\\n>>> symbolic N_C,N_R,b_col(2),b_row(1),b_row1(1);\\n>>> Iexec := {[ii,jj,i,k]:exists(ri,ck:0<=ri<8&&i=ii*8+ri&&0<=ck<8&&k=b_col(ii,jj)*8+ck)&&b_row(ii)<=jj<b_row1(ii)&&i>=0&&k>=0&&-i+N_R-1>=0&&-k+N_C-1>=0};\\n>>> codegen(Iexec) given {[ii,jj,i,k]: b_col(ii,jj)>=0&&N_C>0&&N_C>8*b_col(ii,jj)};\\nfor(t1 = 0; t1 <= intFloor(N_R-1,8); t1++) {\\n  for(t2 = b_row(t1); t2 <= b_row1(t1)-1; t2++) {\\n    for(t3 = 8*t1; t3 <= min(N_R-1,8*t1+7); t3++) {\\n      for(t4 = 8*b_col(t1,t2); t4 <= min(8*b_col(t1,t2)+7,N_C-1); t4++) {\\n        s0(t1,t2,t3,t4);\\n      }\\n    }\\n  }\\n}\\n\\n>>> \\n',\n",
       " '')"
      ]
     },
     "execution_count": 51,
     "metadata": {},
     "output_type": "execute_result"
    }
   ],
   "source": [
    "# make-dense(csr)\n",
    "import re\n",
    "from codegen.iegenlib import IEGenLib\n",
    "from tools.system import run\n",
    "\n",
    "#icsr = 'Icsr := {[i,j]: 0 <= i < N_R && index(i) <= j < index(i+1) && j >= 0 && j < NNZ}'\n",
    "# icsr = 'Icsr := {[i,j]: 0 <= i < N_R && index(i) <= j < index(i+1)}'\n",
    "# tdense = 'Tdense := {[i,j] -> [i,k,j]: 0 <= k < N_C && k = col(j)}'\n",
    "# idense = 'Idense := {[i,k,j]: k - col(j) = 0 && i >= 0 && k >= 0 && j - index(i) >= 0 && -i + N_R - 1 >= 0 && -k + N_C - 1 >= 0 && -j + index(i + 1) - 1 >= 0 };'\n",
    "# ttile = 'Ttile := {[i,k,j] -> [ii,kk,i,k,j]: 0 <= ii < floor(N_R/8) && 0 <= kk < floor(N_C/8) && 8 * ii <= i < min(N_R - 1, 8 * ii + 7) && 8 * kk <= k < min(N_C - 1, 8 * kk + 7)}'\n",
    "\n",
    "# # Perform the make-dense transformation with IEGenLib/Omega:\n",
    "# iegen = IEGenLib()\n",
    "# iegen.add(icsr)\n",
    "# iegen.add(tdense)\n",
    "# (resid, result) = iegen.apply('Tdense', 'Icsr', 'Idense')\n",
    "# assign = '%s := %s;' % (resid, result)\n",
    "# print(\"(IEGenLib) \" + assign)\n",
    "#omcode = iegen.to_omega(resid)\n",
    "\n",
    "#Idense := { [i, k, j] : k - col(i,k,j) = 0 && i >= 0 && k >= 0 && j - index(i) >= 0 && -i + N_R - 1 >= 0 && -k + N_C - 1 >= 0 && -j + index1(i) - 1 >= 0 && -index(i) + index1(i) - 1 >= 0 };\n",
    "#codegen(Idense) given {[i,k,j]: index1(i) >= index(i)+1 && N_C >= 1};\n",
    "#Itile := { [ii,kk,i,k,j]: exists(ri,ck: 0 <= ri < 8 && i = ii*8+ri && 0 <= ck < 8 && k = kk*8+ck) && k - col(ii,kk,i,k,j) = 0 && i >= 0 && k >= 0 && index(ii,kk,i) >= 0 && j - index(ii,kk,i) >= 0 && NNZ - index1(ii,kk,i) >= 0 && -i + N_R - 1 >= 0 && -k + N_C - 1 >= 0 && -j + index1(ii,kk,i) - 1 >= 0};\n",
    "#codegen(Itile) given {[ii,kk,i,k,j]: N_R > 0 && N_C > 0 && index(ii,kk,i) >= 0 && index1(ii,kk,i) <= NNZ && index(ii,kk,i)+1 <= index1(ii,kk,i)};\n",
    "#symbolic N_C,N_R,NNZ,NB,index(3),index1(3),col(5),b_row(1),b_row1(1),b_col(2);\n",
    "#Iexec := { [ii,jj,i,k]: exists(ri,ck: 0 <= ri < 8 && i = ii*8+ri && 0 <= ck < 8 && k = b_col(ii,jj)*8+ck) && b_row(ii) <= jj < b_row1(ii) && i >= 0 && k >= 0 && -i + N_R - 1 >= 0 && -k + N_C - 1 >= 0};\n",
    "#codegen(Iexec) given {[ii,jj,i,k]: b_col(ii,jj) >= 0 && 8*b_col(ii,jj) < N_C};\n",
    "#symbolic N_C,N_R,NNZ,NB,index(2),index1(2),col(3);\n",
    "#Icomp := { [ii,i,j,k]: exists(ri,ck: 0 <= ri < 8 && i = ii*8+ri && 0 <= ck < 8 && k = col(ii,i,j)) && i >= 0 && k >= 0 && index(ii,i) >= 0 && j - index(ii,i) >= 0 && NNZ - index1(ii,i) >= 0 && -i + N_R - 1 >= 0 && -k + N_C - 1 >= 0 && -j + index1(ii,i) - 1 >= 0};\n",
    "#codegen(Icomp) given {[ii,i,j,k]: NNZ > 0 && N_C > 0 && index(ii,i) >= 0 && index1(ii,i) <= NNZ && col(ii,i,j) >= 0 && col(ii,i,j) < N_C};\n",
    "\n",
    "# Icsr\n",
    "# symbolic NNZ,N_R,index(1),index1(1);\n",
    "# spmv := {[i,j]:0<=i<N_R&&index(i)<=j<index1(i)};\n",
    "# codegen(spmv) given {[i,j]: index(i)>=0&&NNZ>0&&NNZ>=index1(i)};\n",
    "\n",
    "omcode = \"\"\"\n",
    "#symbolic NNZ,N_R,index(1),index1(1);\n",
    "#spmv := {[i,j]:0<=i<N_R&&index(i)<=j<index1(i)};\n",
    "#codegen(spmv) given {[i,j]: index(i)>=0&&NNZ>0&&NNZ>=index1(i)};\n",
    "symbolic N_C,N_R,b_col(2),b_row(1),b_row1(1);\n",
    "Iexec := {[ii,jj,i,k]:exists(ri,ck:0<=ri<8&&i=ii*8+ri&&0<=ck<8&&k=b_col(ii,jj)*8+ck)&&b_row(ii)<=jj<b_row1(ii)&&i>=0&&k>=0&&-i+N_R-1>=0&&-k+N_C-1>=0};\n",
    "codegen(Iexec) given {[ii,jj,i,k]: b_col(ii,jj)>=0&&N_C>0&&N_C>8*b_col(ii,jj)};\n",
    "\"\"\"\n",
    "run('/usr/local/bin/omegacalc', omcode, verbose=True)\n"
   ]
  },
  {
   "cell_type": "code",
   "execution_count": 2,
   "metadata": {
    "scrolled": true
   },
   "outputs": [
    {
     "name": "stdout",
     "output_type": "stream",
     "text": [
      "Output:\n",
      "================================================================================================\n",
      "\n",
      ">>> symbolic L,NB,NNZ,bind1(1),bind2(1),bind3(1),bptr(1),bptr1(1),crd1(5),crd2(5),crd3(5),eind1(5),eind2(5),eind3(5);\n",
      ">>> Ihi := {[b,bi,bj,bk,m,ei,ej,ek,i,j,k,l]:bi-bind1(b)=0&&bj-bind2(b)=0&&bk-bind3(b)=0&&ei-eind1(b,bi,bj,bk,m)=0&&ej-eind2(b,bi,bj,bk,m)=0&&ek-eind3(b,bi,bj,bk,m)=0&&8bi+ei-i=0&&8bj+ej-j=0&&8bk+ek-k=0&&b>=0&&m>=0&&l>=0&&bptr(b)>=0&&m-bptr(b)>=0&&L-1>=0&&NNZ-bptr1(b)>=0&&NNZ-2>=0&&-b+NB-1>=0&&-m+NNZ-1>=0&&-m+bptr1(b)-1>=0&&-l+L-1>=0};\n",
      ">>> codegen(Ihi) given {[b,bi,bj,bk,m,ei,ej,ek,i,j,k,l]: bptr(b)>=0&&L-1>=0&&NNZ-bptr1(b)>=0&&NNZ-2>=0&&i-crd1(b,bi,bj,bk,m)=0&&j-crd2(b,bi,bj,bk,m)=0&&k-crd3(b,bi,bj,bk,m)=0};\n",
      "for(t1 = 0; t1 <= NB-1; t1++) {\n",
      "  t2=bind1(t1);\n",
      "  t3=bind2(t1);\n",
      "  t4=bind3(t1);\n",
      "  for(t5 = bptr(t1); t5 <= bptr1(t1)-1; t5++) {\n",
      "    if (crd3(t1,t2,t3,t4,t5) == 8*t4+eind3(t1,t2,t3,t4,t5) && crd1(t1,t2,t3,t4,t5) == 8*bind1(t1)+eind1(t1,t2,t3,t4,t5) && crd2(t1,t2,t3,t4,t5) == 8*bind2(t1)+eind2(t1,t2,t3,t4,t5)) {\n",
      "      t6=crd1(t1,t2,t3,t4,t5)-8*bind1(t1);\n",
      "      t7=crd2(t1,t2,t3,t4,t5)-8*bind2(t1);\n",
      "      t8=crd3(t1,t2,t3,t4,t5)-8*t4;\n",
      "      t9=crd1(t1,t2,t3,t4,t5);\n",
      "      t10=crd2(t1,t2,t3,t4,t5);\n",
      "      t11=crd3(t1,t2,t3,t4,t5);\n",
      "      for(t12 = 0; t12 <= L-1; t12++) {\n",
      "        s0(t1,t2,t3,t4,t5,t6,t7,t8,t9,t10,t11,t12);\n",
      "      }\n",
      "    }\n",
      "  }\n",
      "}\n",
      "\n",
      ">>> \n",
      "\n"
     ]
    },
    {
     "data": {
      "text/plain": [
       "('>>> symbolic L,NB,NNZ,bind1(1),bind2(1),bind3(1),bptr(1),bptr1(1),crd1(5),crd2(5),crd3(5),eind1(5),eind2(5),eind3(5);\\n>>> Ihi := {[b,bi,bj,bk,m,ei,ej,ek,i,j,k,l]:bi-bind1(b)=0&&bj-bind2(b)=0&&bk-bind3(b)=0&&ei-eind1(b,bi,bj,bk,m)=0&&ej-eind2(b,bi,bj,bk,m)=0&&ek-eind3(b,bi,bj,bk,m)=0&&8bi+ei-i=0&&8bj+ej-j=0&&8bk+ek-k=0&&b>=0&&m>=0&&l>=0&&bptr(b)>=0&&m-bptr(b)>=0&&L-1>=0&&NNZ-bptr1(b)>=0&&NNZ-2>=0&&-b+NB-1>=0&&-m+NNZ-1>=0&&-m+bptr1(b)-1>=0&&-l+L-1>=0};\\n>>> codegen(Ihi) given {[b,bi,bj,bk,m,ei,ej,ek,i,j,k,l]: bptr(b)>=0&&L-1>=0&&NNZ-bptr1(b)>=0&&NNZ-2>=0&&i-crd1(b,bi,bj,bk,m)=0&&j-crd2(b,bi,bj,bk,m)=0&&k-crd3(b,bi,bj,bk,m)=0};\\nfor(t1 = 0; t1 <= NB-1; t1++) {\\n  t2=bind1(t1);\\n  t3=bind2(t1);\\n  t4=bind3(t1);\\n  for(t5 = bptr(t1); t5 <= bptr1(t1)-1; t5++) {\\n    if (crd3(t1,t2,t3,t4,t5) == 8*t4+eind3(t1,t2,t3,t4,t5) && crd1(t1,t2,t3,t4,t5) == 8*bind1(t1)+eind1(t1,t2,t3,t4,t5) && crd2(t1,t2,t3,t4,t5) == 8*bind2(t1)+eind2(t1,t2,t3,t4,t5)) {\\n      t6=crd1(t1,t2,t3,t4,t5)-8*bind1(t1);\\n      t7=crd2(t1,t2,t3,t4,t5)-8*bind2(t1);\\n      t8=crd3(t1,t2,t3,t4,t5)-8*t4;\\n      t9=crd1(t1,t2,t3,t4,t5);\\n      t10=crd2(t1,t2,t3,t4,t5);\\n      t11=crd3(t1,t2,t3,t4,t5);\\n      for(t12 = 0; t12 <= L-1; t12++) {\\n        s0(t1,t2,t3,t4,t5,t6,t7,t8,t9,t10,t11,t12);\\n      }\\n    }\\n  }\\n}\\n\\n>>> \\n',\n",
       " '')"
      ]
     },
     "execution_count": 2,
     "metadata": {},
     "output_type": "execute_result"
    }
   ],
   "source": [
    "import re\n",
    "from codegen.iegenlib import IEGenLib\n",
    "from tools.system import run\n",
    "\n",
    "omcode = \"\"\"\n",
    "symbolic L,NB,NNZ,bind1(1),bind2(1),bind3(1),bptr(1),bptr1(1),crd1(5),crd2(5),crd3(5),eind1(5),eind2(5),eind3(5);\n",
    "Ihi := {[b,bi,bj,bk,m,ei,ej,ek,i,j,k,l]:bi-bind1(b)=0&&bj-bind2(b)=0&&bk-bind3(b)=0&&ei-eind1(b,bi,bj,bk,m)=0&&ej-eind2(b,bi,bj,bk,m)=0&&ek-eind3(b,bi,bj,bk,m)=0&&8bi+ei-i=0&&8bj+ej-j=0&&8bk+ek-k=0&&b>=0&&m>=0&&l>=0&&bptr(b)>=0&&m-bptr(b)>=0&&L-1>=0&&NNZ-bptr1(b)>=0&&NNZ-2>=0&&-b+NB-1>=0&&-m+NNZ-1>=0&&-m+bptr1(b)-1>=0&&-l+L-1>=0};\n",
    "codegen(Ihi) given {[b,bi,bj,bk,m,ei,ej,ek,i,j,k,l]: bptr(b)>=0&&L-1>=0&&NNZ-bptr1(b)>=0&&NNZ-2>=0&&i-crd1(b,bi,bj,bk,m)=0&&j-crd2(b,bi,bj,bk,m)=0&&k-crd3(b,bi,bj,bk,m)=0};\n",
    "\"\"\"\n",
    "run('/usr/local/bin/omegacalc', omcode, verbose=True)\n"
   ]
  },
  {
   "cell_type": "code",
   "execution_count": 33,
   "metadata": {
    "scrolled": true
   },
   "outputs": [
    {
     "name": "stdout",
     "output_type": "stream",
     "text": [
      "(IEGenLib) Itile := { [ii, kk, ri, ck, j] : 8 kk + ck - col(j) = 0 && ii >= 0 && kk >= 0 && ri >= 0 && ck >= 0 && 8 ii + ri >= 0 && 8 kk + ck >= 0 && j - index(8 ii + ri) >= 0 && -ii + N_R - 1 >= 0 && -kk + N_C - 1 >= 0 && -ri + R - 1 >= 0 && -ck + C - 1 >= 0 && -j + index(8 ii + ri + 1) - 1 >= 0 && -8 ii - ri + N_R - 1 >= 0 && -8 kk - ck + N_C - 1 >= 0 };\n",
      "Output:\n",
      "================================================================================================\n",
      "\n",
      ">>> symbolic N_C,N_R,R,C,index(1),col(3),index1(1);\n",
      ">>> Idense := { [i, k, j] : k - col(i,k,j) = 0 && i >= 0 && k >= 0 && j - index(i) >= 0 && -i + N_R - 1 >= 0 && -k + N_C - 1 >= 0 && -j + index1(i) - 1 >= 0 };\n",
      ">>> #Ttile := {[i,k,j] -> [ii,kk,i,k,j]: 0 <= ii < floor(N_R/8) && 0 <= kk < floor(N_C/8) && 8 * ii <= i < min(N_R - 1, 8 * ii + 7) && 8 * kk <= k < min(N_C - 1, 8 * kk + 7)};\n",
      ">>> #Ttile := {[i,k,j] -> [ii,kk,i,k,j]: exists(ri,ck: 0 <= ri < 8 && i = ii*8+ri && 0 <= ck < 8 && k = kk*8+ck)};\n",
      ">>> Ttile := {[i,k,j] -> [ii,kk,ri,ck,j]: 0 <= ii < N_R/8 && 0 <= ri < R && i = ii*8+ri && 0 <= kk < N_C/8 && 0 <= ck < C && k = kk*8+ck};\n",
      "syntax error at line 5\n",
      "...skipping to statement end...\n",
      ">>> Itile := Ttile(Idense);\n",
      "relation Ttile not declared at line 6\n",
      "...skipping to statement end...\n",
      ">>> codegen(Itile);\n",
      "relation Itile not declared at line 7\n",
      "...skipping to statement end...\n",
      ">>> \n",
      "\n"
     ]
    },
    {
     "data": {
      "text/plain": [
       "('>>> symbolic N_C,N_R,R,C,index(1),col(3),index1(1);\\n>>> Idense := { [i, k, j] : k - col(i,k,j) = 0 && i >= 0 && k >= 0 && j - index(i) >= 0 && -i + N_R - 1 >= 0 && -k + N_C - 1 >= 0 && -j + index1(i) - 1 >= 0 };\\n>>> #Ttile := {[i,k,j] -> [ii,kk,i,k,j]: 0 <= ii < floor(N_R/8) && 0 <= kk < floor(N_C/8) && 8 * ii <= i < min(N_R - 1, 8 * ii + 7) && 8 * kk <= k < min(N_C - 1, 8 * kk + 7)};\\n>>> #Ttile := {[i,k,j] -> [ii,kk,i,k,j]: exists(ri,ck: 0 <= ri < 8 && i = ii*8+ri && 0 <= ck < 8 && k = kk*8+ck)};\\n>>> Ttile := {[i,k,j] -> [ii,kk,ri,ck,j]: 0 <= ii < N_R/8 && 0 <= ri < R && i = ii*8+ri && 0 <= kk < N_C/8 && 0 <= ck < C && k = kk*8+ck};\\nsyntax error at line 5\\n...skipping to statement end...\\n>>> Itile := Ttile(Idense);\\nrelation Ttile not declared at line 6\\n...skipping to statement end...\\n>>> codegen(Itile);\\nrelation Itile not declared at line 7\\n...skipping to statement end...\\n>>> \\n',\n",
       " '')"
      ]
     },
     "execution_count": 33,
     "metadata": {},
     "output_type": "execute_result"
    }
   ],
   "source": [
    "import re\n",
    "from codegen.iegenlib import IEGenLib\n",
    "from tools.system import run\n",
    "\n",
    "icsr = 'Icsr := {[i,j]: 0 <= i < N_R && index(i) <= j < index(i+1)}'\n",
    "idense = 'Idense := {[i,k,j]: k - col(j) = 0 && i >= 0 && k >= 0 && j - index(i) >= 0 && -i + N_R - 1 >= 0 && -k + N_C - 1 >= 0 && -j + index(i + 1) - 1 >= 0 }'\n",
    "#ttile = 'Ttile := {[i,k,j] -> [ii,kk,i,k,j]: 0 <= ii < floor(N_R/8) && 0 <= kk < floor(N_C/8) && 8 * ii <= i < min(N_R - 1, 8 * ii + 7) && 8 * kk <= k < min(N_C - 1, 8 * kk + 7)}'\n",
    "ttile = 'Ttile := {[i,k,j] -> [ii,kk,ri,ck,j]: 0 <= ii < N_R && 0 <= ri < R && i = ii*8+ri && 0 <= kk < N_C && 0 <= ck < C && k = kk*8+ck}'\n",
    "# Perform the tile transformation with IEGenLib/Omega:\n",
    "iegen = IEGenLib()\n",
    "iegen.add(idense)\n",
    "iegen.add(ttile)\n",
    "(resid, result) = iegen.apply('Ttile', 'Idense', 'Itile')\n",
    "assign = '%s := %s;' % (resid, result)\n",
    "print(\"(IEGenLib) \" + assign)\n",
    "#omcode = iegen.to_omega(resid)\n",
    "\n",
    "# CHiLL Example:\n",
    "# sym = n;\n",
    "# s1:={[In_1,In_2,In_3,In_4] : exists ( t2,t4,t6,t8,t2',t4',t6',t8' : ( exists ( alpha,beta : t2 = 16beta && t2' = 16alpha && t4' = t4 && t6' = 1+t6 && t8' = 1+t8 && t2' = t2+In_1 && t4' = t4+In_2 && t6' = t6+In_3 && t8' = t8+In_4 && 0, t8-15 <= t2 <= t8 <= t2'+14 && 0 <= t2' <= t8+1, n-1 && 0 <= t6 <= n-2 && 0 <= t4 < n && t2 < n) )) };\n",
    "# s2:={[t8]: 0 < t8 < 8};\n",
    "\n",
    "omcode = \"\"\"\n",
    "symbolic N_C,N_R,R,C,index(1),col(3),index1(1);\n",
    "Idense := { [i, k, j] : k - col(i,k,j) = 0 && i >= 0 && k >= 0 && j - index(i) >= 0 && -i + N_R - 1 >= 0 && -k + N_C - 1 >= 0 && -j + index1(i) - 1 >= 0 };\n",
    "#Ttile := {[i,k,j] -> [ii,kk,i,k,j]: exists(ri,ck: 0 <= ri < 8 && i = ii*8+ri && 0 <= ck < 8 && k = kk*8+ck)};\n",
    "Ttile := {[i,k,j] -> [ii,kk,ri,ck,j]: 0 <= ii < N_R/8 && 0 <= ri < R && i = ii*8+ri && 0 <= kk < N_C/8 && 0 <= ck < C && k = kk*8+ck};\n",
    "Itile := Ttile(Idense);\n",
    "codegen(Itile);\n",
    "\"\"\"\n",
    "run('/usr/local/bin/omegacalc', omcode, verbose=True)\n"
   ]
  },
  {
   "cell_type": "code",
   "execution_count": 17,
   "metadata": {},
   "outputs": [
    {
     "name": "stdout",
     "output_type": "stream",
     "text": [
      "Output:\n",
      "=========================================================================================================\n",
      "\n",
      ">>> symbolic N,NNZ,col(1),index(1),ip1;\n",
      ">>> I_csr := {[i,j] : 0 <= i < N && 0 <= j < NNZ && index(i) <= j < index(ip1) && k = col(j)};\n",
      "arguments to function must be prefix of input or output tuple at line 3\n",
      "...skipping to statement end...\n",
      ">>> A := {[j] : 0 <= j < NNZ};\n",
      ">>> col := {[j] : 0 <= j < NNZ};\n",
      ">>> index := {[i] : 0 <= i < N};\n",
      ">>> x := {[k] : 0 <= k < N};\n",
      ">>> spmv := {[i,j] : 0 <= i < N && 0 <= j < NNZ && index(i) <= j < index(ip1) && k = col(j)};\n",
      "arguments to function must be prefix of input or output tuple at line 8\n",
      "...skipping to statement end...\n",
      ">>> codegen(spmv);\n",
      "relation spmv not declared at line 9\n",
      "...skipping to statement end...\n",
      ">>> y := {[i] : 0 <= i < N};\n",
      ">>> \n",
      "\n"
     ]
    }
   ],
   "source": [
    "# spmv code\n",
    "code = \"\"\"\n",
    "symbolic N,NNZ,col(1),index(1),ip1;\n",
    "I_csr := {[i,j] : 0 <= i < N && 0 <= j < NNZ && index(i) <= j < index(ip1) && k = col(j)};\n",
    "A := {[j] : 0 <= j < NNZ};\n",
    "col := {[j] : 0 <= j < NNZ};\n",
    "index := {[i] : 0 <= i < N};\n",
    "x := {[k] : 0 <= k < N};\n",
    "spmv := {[i,j] : 0 <= i < N && 0 <= j < NNZ && index(i) <= j < index(ip1) && k = col(j)};\n",
    "codegen(spmv);\n",
    "y := {[i] : 0 <= i < N};\n",
    "\"\"\"\n",
    "\n",
    "# dmxpy code\n",
    "dmvcode = \"\"\"\n",
    "symbolic M,N;\n",
    "I_dmv := {[i,k] : 0 <= i < M && 0 <= k < N};\n",
    "codegen I_dmv;\n",
    "\"\"\"\n",
    "\n",
    "csrcode = \"\"\"\n",
    "# Define constants and variables\n",
    "symbolic NNZ,N_R,N_C,R,C,k;\n",
    "\n",
    "# Define uninterpreted functions...\n",
    "symbolic col(1),index(1),ip1,index_i_,index_ip1_;\n",
    "\n",
    "# Appears assignments can be handled like this...\n",
    "NNZ := {[NNZ] -> [7] };\n",
    "\n",
    "# I_csr iteration space\n",
    "I_csr := {[i,j] : 0 <= i < N_R and index(i) <= j < index(ip1)};\n",
    "I_csr;\n",
    "\n",
    "# I_tile iteration space\n",
    "# I_tile := {[ii,kk] : 0 <= ii < N_R/R and 0 <= kk < N_C/C };\n",
    "# Seems division is not supported, so replace '/' with 'd'\n",
    "#symbolic N_RdR,N_CdC;\n",
    "#I_tile := {[ii,kk] : 0 <= ii < N_RdR and 0 <= kk < N_CdC };\n",
    "\n",
    "# Codegen works...\n",
    "codegen I_csr;\n",
    "\n",
    "# Transformation function:\n",
    "#T_csr_tile := {[i,j] -> [ii,kk] : exists(j : k=col(j)) and ii=floor(i/R) and kk=floor(k/C)};\n",
    "\n",
    "\"\"\"\n",
    "\n",
    "ex1code = \"\"\"\n",
    "symbolic N;\n",
    "symbolic F(1);\n",
    "S := {[i,j]  : 0<=i<N and 0<=j<F(i)};\n",
    "codegen S;\n",
    "\"\"\"\n",
    "\n",
    "ex2code = \"\"\"\n",
    "symbolic i,ip1,N_R;\n",
    "symbolic index(1);\n",
    "I_csr := {[i,j] : 0 <= i < N_R and index(i) <= j < index(ip1)};\n",
    "codegen I_csr;\n",
    "\"\"\"\n",
    "\n",
    "#print(\"Input:\")\n",
    "#print(code);\n",
    "\n",
    "cmd = '/usr/local/bin/oc'# + ' --help'\n",
    "import subprocess as sub\n",
    "proc = sub.Popen(cmd, shell=True, stdin=sub.PIPE, stdout=sub.PIPE, stderr=sub.PIPE)\n",
    "data = proc.communicate(input=code.encode('ascii'))\n",
    "out = data[0].decode()\n",
    "err = data[1].decode()\n",
    "\n",
    "if len(out) > 0:\n",
    "    print(\"Output:\")\n",
    "    print(\"=========================================================================================================\\n\")\n",
    "    print(out)\n",
    "\n",
    "if len(err) > 0:\n",
    "    print(\"Error:\")\n",
    "    print(\"=========================================================================================================\\n\")\n",
    "    print(err)\n"
   ]
  },
  {
   "cell_type": "code",
   "execution_count": null,
   "metadata": {
    "collapsed": true
   },
   "outputs": [],
   "source": []
  }
 ],
 "metadata": {
  "kernelspec": {
   "display_name": "Python 3",
   "language": "python",
   "name": "python3"
  },
  "language_info": {
   "codemirror_mode": {
    "name": "ipython",
    "version": 3
   },
   "file_extension": ".py",
   "mimetype": "text/x-python",
   "name": "python",
   "nbconvert_exporter": "python",
   "pygments_lexer": "ipython3",
   "version": "3.6.7"
  }
 },
 "nbformat": 4,
 "nbformat_minor": 2
}
