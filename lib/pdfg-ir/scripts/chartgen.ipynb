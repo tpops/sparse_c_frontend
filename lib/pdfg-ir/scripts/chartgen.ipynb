{
 "cells": [
  {
   "cell_type": "code",
   "execution_count": 1,
   "metadata": {},
   "outputs": [
    {
     "data": {
      "text/html": [
       "<script type=\"text/javascript\">window.PlotlyConfig = {MathJaxConfig: 'local'};</script><script type=\"text/javascript\">if (window.MathJax) {MathJax.Hub.Config({SVG: {font: \"STIX-Web\"}});}</script><script>requirejs.config({paths: { 'plotly': ['https://cdn.plot.ly/plotly-latest.min']},});if(!window._Plotly) {require(['plotly'],function(plotly) {window._Plotly=plotly;});}</script>"
      ]
     },
     "metadata": {},
     "output_type": "execute_result"
    },
    {
     "data": {
      "text/html": [
       "<div id=\"69b918b3-9674-4ea3-9471-42f8a87ec12b\" style=\"height: 525px; width: 100%;\" class=\"plotly-graph-div\"></div><script type=\"text/javascript\">require([\"plotly\"], function(Plotly) { window.PLOTLYENV=window.PLOTLYENV || {};window.PLOTLYENV.BASE_URL=\"https://plot.ly\";Plotly.newPlot(\"69b918b3-9674-4ea3-9471-42f8a87ec12b\", [{\"marker\": {\"color\": \"rgb(31, 119, 180)\"}, \"name\": \"CSB\", \"x\": [\"mc2depi\", \"mc2depi\", \"mc2depi\", \"mc2depi\", \"mc2depi\", \"cant\", \"cant\", \"cant\", \"cant\", \"cant\", \"cop20k_A\", \"cop20k_A\", \"cop20k_A\", \"cop20k_A\", \"cop20k_A\", \"mac_econ\", \"mac_econ\", \"mac_econ\", \"mac_econ\", \"mac_econ\", \"pwtk\", \"pwtk\", \"pwtk\", \"pwtk\", \"pwtk\", \"consph\", \"consph\", \"consph\", \"consph\", \"consph\", \"rma10\", \"rma10\", \"rma10\", \"rma10\", \"rma10\", \"scircuit\", \"scircuit\", \"scircuit\", \"scircuit\", \"scircuit\", \"pdb1HYS\", \"pdb1HYS\", \"pdb1HYS\", \"pdb1HYS\", \"pdb1HYS\", \"shipsec1\", \"shipsec1\", \"shipsec1\", \"shipsec1\", \"shipsec1\"], \"y\": [432.91708539999996, 1031.90021, 1388.906825, 889.2686613, 1040.0465140000001, 28.37118682, 28.21332999, 27.81368756, 29.28564834, 28.78900808, 0.0, 0.0, 0.0, 0.0, 0.0, 0.0, 0.0, 0.0, 0.0, 0.0, 90.13030441, 69.24109685, 73.84598184, 40.78762469, 36.46572746, 29.47273161, 30.01532902, 29.65137823, 29.51431183, 29.68518436, 19.61052007, 19.60694752, 18.5460613, 18.59609498, 19.32180781, 0.0, 0.0, 0.0, 0.0, 0.0, 24.93567679, 24.29158134, 24.21844843, 25.21591125, 24.28943063, 118.05969820000001, 95.19582951, 119.1479878, 104.733154, 101.8818008], \"type\": \"bar\", \"uid\": \"15a90aa1-67b0-45e2-9db8-b5ff26f12c4e\"}, {\"marker\": {\"color\": \"rgb(255, 127, 14)\"}, \"name\": \"CSR\", \"x\": [\"mc2depi\", \"mc2depi\", \"mc2depi\", \"mc2depi\", \"mc2depi\", \"cant\", \"cant\", \"cant\", \"cant\", \"cant\", \"cop20k_A\", \"cop20k_A\", \"cop20k_A\", \"cop20k_A\", \"cop20k_A\", \"mac_econ\", \"mac_econ\", \"mac_econ\", \"mac_econ\", \"mac_econ\", \"pwtk\", \"pwtk\", \"pwtk\", \"pwtk\", \"pwtk\", \"consph\", \"consph\", \"consph\", \"consph\", \"consph\", \"rma10\", \"rma10\", \"rma10\", \"rma10\", \"rma10\", \"scircuit\", \"scircuit\", \"scircuit\", \"scircuit\", \"scircuit\", \"pdb1HYS\", \"pdb1HYS\", \"pdb1HYS\", \"pdb1HYS\", \"pdb1HYS\", \"shipsec1\", \"shipsec1\", \"shipsec1\", \"shipsec1\", \"shipsec1\"], \"y\": [26.89601927, 10.63416032, 18.88788753, 11.0055289, 10.65720992, 5.488129862, 5.48339533, 5.44446469, 4.776536242, 4.924169074, 0.0, 122.63067290000001, 0.0, 0.0, 0.0, 10.18358333, 17.54569095, 14.19619006, 13.69075248, 15.44100754, 2.883646546, 3.734951558, 3.414638975, 2.818713585, 2.804045846, 4.0460757769999995, 5.333108387, 3.746125619, 3.6425894960000003, 3.791374048, 4.5739469669999995, 4.249893776, 4.650224525, 3.729920685, 3.879797245, 0.0, 149.4193709, 0.0, 0.0, 0.0, 4.303411373, 5.348809038, 5.522644595, 6.822407987, 4.603564395, 3.7493448910000002, 3.7125553589999996, 4.8362852830000005, 4.223592442, 5.4272456060000005], \"type\": \"bar\", \"uid\": \"d13e8512-0134-4f55-befc-65c2a4193726\"}, {\"marker\": {\"color\": \"rgb(44, 160, 44)\"}, \"name\": \"DSR\", \"x\": [\"mc2depi\", \"mc2depi\", \"mc2depi\", \"mc2depi\", \"mc2depi\", \"cant\", \"cant\", \"cant\", \"cant\", \"cant\", \"cop20k_A\", \"cop20k_A\", \"cop20k_A\", \"cop20k_A\", \"cop20k_A\", \"mac_econ\", \"mac_econ\", \"mac_econ\", \"mac_econ\", \"mac_econ\", \"pwtk\", \"pwtk\", \"pwtk\", \"pwtk\", \"pwtk\", \"consph\", \"consph\", \"consph\", \"consph\", \"consph\", \"rma10\", \"rma10\", \"rma10\", \"rma10\", \"rma10\", \"scircuit\", \"scircuit\", \"scircuit\", \"scircuit\", \"scircuit\", \"pdb1HYS\", \"pdb1HYS\", \"pdb1HYS\", \"pdb1HYS\", \"pdb1HYS\", \"shipsec1\", \"shipsec1\", \"shipsec1\", \"shipsec1\", \"shipsec1\"], \"y\": [120.59718970000002, 0.0, 0.0, 97.18178712, 147.2678297, 9.924544757, 19.4169062, 9.831319123, 16.80482364, 11.84683716, 19.91605178, 18.23690967, 14.94638786, 24.86665334, 20.57198957, 0.0, 0.0, 0.0, 0.0, 0.0, 5.077497878, 4.977982418, 4.708796969, 4.684918013, 6.015708422, 8.275473933999999, 5.291418724, 7.070007534, 5.324097974, 8.819795013, 7.043710738, 13.57839604, 6.958841485, 7.046536542, 7.229547652999999, 0.0, 0.0, 0.0, 0.0, 0.0, 5.16032051, 5.420886076, 6.352027781, 10.03323946, 19.3455724, 6.286143049, 8.626924004, 6.6443588479999995, 7.862415287, 6.66492273], \"type\": \"bar\", \"uid\": \"f098818f-345c-4e90-89cd-ffef212f1f63\"}, {\"marker\": {\"color\": \"rgb(214, 39, 40)\"}, \"name\": \"ELL\", \"x\": [\"mc2depi\", \"mc2depi\", \"mc2depi\", \"mc2depi\", \"mc2depi\", \"cant\", \"cant\", \"cant\", \"cant\", \"cant\", \"mac_econ\", \"mac_econ\", \"mac_econ\", \"mac_econ\", \"mac_econ\", \"pwtk\", \"pwtk\", \"pwtk\", \"pwtk\", \"pwtk\", \"consph\", \"consph\", \"consph\", \"consph\", \"consph\", \"rma10\", \"rma10\", \"rma10\", \"rma10\", \"rma10\", \"scircuit\", \"scircuit\", \"scircuit\", \"scircuit\", \"scircuit\", \"pdb1HYS\", \"pdb1HYS\", \"pdb1HYS\", \"pdb1HYS\", \"pdb1HYS\", \"shipsec1\", \"shipsec1\", \"shipsec1\", \"shipsec1\", \"shipsec1\"], \"y\": [22.08843166, 22.6879426, 23.67759304, 22.36687794, 23.12927954, 552.9233177, 82.82613824, 0.0, 349.6849288, 0.0, 0.0, 0.0, 0.0, 0.0, 0.0, 0.0, 0.0, 0.0, 0.0, 0.0, 0.0, 0.0, 0.0, 0.0, 0.0, 0.0, 0.0, 0.0, 0.0, 0.0, 0.0, 0.0, 0.0, 0.0, 0.0, 0.0, 0.0, 0.0, 0.0, 0.0, 0.0, 0.0, 0.0, 0.0, 0.0], \"type\": \"bar\", \"uid\": \"b57cce91-f2af-4464-8469-4073d7623c95\"}, {\"marker\": {\"color\": \"rgb(148, 103, 189)\"}, \"name\": \"DIA\", \"x\": [\"mc2depi\", \"mc2depi\", \"mc2depi\", \"mc2depi\", \"mc2depi\", \"cant\", \"cant\", \"cant\", \"cant\", \"cant\", \"mac_econ\", \"mac_econ\", \"mac_econ\", \"mac_econ\", \"mac_econ\", \"consph\", \"consph\", \"consph\", \"consph\", \"consph\", \"pdb1HYS\", \"pdb1HYS\", \"pdb1HYS\", \"pdb1HYS\", \"pdb1HYS\", \"shipsec1\", \"shipsec1\", \"shipsec1\", \"shipsec1\", \"shipsec1\"], \"y\": [0.0, 0.0, 0.0, 0.0, 0.0, 9.136655424, 17.52704306, 7.731268995, 11.181770599999998, 16.60095766, 0.0, 0.0, 0.0, 0.0, 0.0, 0.0, 0.0, 0.0, 0.0, 0.0, 0.0, 0.0, 0.0, 0.0, 0.0, 0.0, 0.0, 0.0, 0.0, 0.0], \"type\": \"bar\", \"uid\": \"b7e62111-a869-45c6-b963-f109f2a153b4\"}], {\"title\": {\"font\": {\"family\": \"Arial\", \"size\": 24}}, \"xaxis\": {\"tickangle\": -45, \"title\": {\"text\": \"Sparse Matrices\"}}, \"yaxis\": {\"range\": [0, 250], \"title\": {\"text\": \"Inspector Iterations\"}}}, {\"showLink\": false, \"linkText\": \"Export to plot.ly\", \"plotlyServerURL\": \"https://plot.ly\"})});</script><script type=\"text/javascript\">window.addEventListener(\"resize\", function(){window._Plotly.Plots.resize(document.getElementById(\"69b918b3-9674-4ea3-9471-42f8a87ec12b\"));});</script>"
      ]
     },
     "metadata": {},
     "output_type": "execute_result"
    }
   ],
   "source": [
    "import pandas as pd\n",
    "import plotly.offline as py\n",
    "import plotly.graph_objs as go\n",
    "\n",
    "%matplotlib inline\n",
    "\n",
    "py.init_notebook_mode(connected=True)\n",
    "\n",
    "df = pd.read_csv('/home/edavis/Work/VarDevEddie/scripts/data/sparse-matrix-filter.csv')\n",
    "\n",
    "formats = df['dstfmt'].unique()\n",
    "nproc = 4\n",
    "sub = df.loc[df['nproc'] == nproc]\n",
    "colors = ['rgb(31, 119, 180)', 'rgb(255, 127, 14)',\n",
    "        'rgb(44, 160, 44)', 'rgb(214, 39, 40)',\n",
    "        'rgb(148, 103, 189)', 'rgb(140, 86, 75)',\n",
    "        'rgb(227, 119, 194)', 'rgb(127, 127, 127)',\n",
    "        'rgb(188, 189, 34)', 'rgb(23, 190, 207)']\n",
    "\n",
    "font = {'name': 'Arial', 'color': 'black', 'size': 24}\n",
    "xcol = 'mtx'\n",
    "ycol = 'inspiters' #'speedup'\n",
    "xtitle = 'Sparse Matrices'\n",
    "ytitle = 'Inspector Iterations' #'Speedup vs. COO'\n",
    "\n",
    "data = []\n",
    "for j in range(len(formats)):\n",
    "    fmt = formats[j]\n",
    "    ser = sub.loc[sub['dstfmt'] == fmt]\n",
    "\n",
    "    # Create a trace\n",
    "    trace = go.Bar(\n",
    "        x=ser[xcol],\n",
    "        y=ser[ycol],\n",
    "        name=fmt,\n",
    "        marker=dict(\n",
    "            color=colors[j]\n",
    "        ),\n",
    "    )\n",
    "\n",
    "    data.append(trace)\n",
    "\n",
    "layout = go.Layout(\n",
    "    xaxis=dict(tickangle=-45,\n",
    "               title=xtitle),\n",
    "    yaxis=dict(range=[0,250],\n",
    "               title=ytitle),\n",
    "    titlefont=dict(family=font['name'],\n",
    "                   size=font['size'])\n",
    ")\n",
    "\n",
    "fig = go.Figure(data=data, layout=layout)\n",
    "py.iplot(fig, filename='spmv_execs')\n"
   ]
  },
  {
   "cell_type": "code",
   "execution_count": 6,
   "metadata": {},
   "outputs": [
    {
     "data": {
      "text/html": [
       "<script type=\"text/javascript\">window.PlotlyConfig = {MathJaxConfig: 'local'};</script><script type=\"text/javascript\">if (window.MathJax) {MathJax.Hub.Config({SVG: {font: \"STIX-Web\"}});}</script><script>requirejs.config({paths: { 'plotly': ['https://cdn.plot.ly/plotly-latest.min']},});if(!window._Plotly) {require(['plotly'],function(plotly) {window._Plotly=plotly;});}</script>"
      ]
     },
     "metadata": {},
     "output_type": "execute_result"
    },
    {
     "data": {
      "text/html": [
       "<div id=\"3aaf02c5-4fe3-49bd-b6bb-177cda91b696\" style=\"height: 525px; width: 100%;\" class=\"plotly-graph-div\"></div><script type=\"text/javascript\">require([\"plotly\"], function(Plotly) { window.PLOTLYENV=window.PLOTLYENV || {};window.PLOTLYENV.BASE_URL=\"https://plot.ly\";Plotly.newPlot(\"3aaf02c5-4fe3-49bd-b6bb-177cda91b696\", [{\"marker\": {\"color\": \"rgb(31, 119, 180)\"}, \"name\": \"COO\", \"x\": [\"crime\", \"nell2\", \"nips\"], \"y\": [8.429738963, 8.400296002000001, 8.424529703], \"type\": \"bar\", \"uid\": \"8e214249-be61-482e-b693-a8aa9c1cca0e\"}, {\"marker\": {\"color\": \"rgb(255, 127, 14)\"}, \"name\": \"CSF\", \"x\": [\"crime\", \"nell2\", \"nips\"], \"y\": [8.474818939, 8.366262297999999, 8.666317409], \"type\": \"bar\", \"uid\": \"f4eec01c-4486-440a-ab04-ee7a64e758b9\"}, {\"marker\": {\"color\": \"rgb(44, 160, 44)\"}, \"name\": \"HiCOO\", \"x\": [\"crime\", \"nell2\", \"nips\"], \"y\": [7.816023541, 6.087466406, 8.340558358], \"type\": \"bar\", \"uid\": \"18c4faad-248d-4ab7-aab8-aa754bd3f486\"}], {\"title\": {\"font\": {\"family\": \"Arial\", \"size\": 24}}, \"xaxis\": {\"tickangle\": -45, \"title\": {\"text\": \"Sparse Tensors\"}}, \"yaxis\": {\"title\": {\"text\": \"Speedup vs. Serial\"}}}, {\"showLink\": false, \"linkText\": \"Export to plot.ly\", \"plotlyServerURL\": \"https://plot.ly\"})});</script><script type=\"text/javascript\">window.addEventListener(\"resize\", function(){window._Plotly.Plots.resize(document.getElementById(\"3aaf02c5-4fe3-49bd-b6bb-177cda91b696\"));});</script>"
      ]
     },
     "metadata": {},
     "output_type": "execute_result"
    }
   ],
   "source": [
    "import pandas as pd\n",
    "import plotly.offline as py\n",
    "import plotly.graph_objs as go\n",
    "\n",
    "%matplotlib inline\n",
    "\n",
    "py.init_notebook_mode(connected=True)\n",
    "\n",
    "df = pd.read_csv('/home/edavis/Work/VarDevEddie/scripts/data/poster_data.csv')\n",
    "\n",
    "formats = df['Format'].unique()\n",
    "nproc = 16\n",
    "sub = df.loc[df['nThreads'] == nproc]\n",
    "colors = ['rgb(31, 119, 180)', 'rgb(255, 127, 14)',\n",
    "        'rgb(44, 160, 44)', 'rgb(214, 39, 40)',\n",
    "        'rgb(148, 103, 189)', 'rgb(140, 86, 75)',\n",
    "        'rgb(227, 119, 194)', 'rgb(127, 127, 127)',\n",
    "        'rgb(188, 189, 34)', 'rgb(23, 190, 207)']\n",
    "\n",
    "font = {'name': 'Arial', 'color': 'black', 'size': 24}\n",
    "xcol = 'Tensor'\n",
    "ycol = 'Speedup'\n",
    "xtitle = 'Sparse Tensors'\n",
    "ytitle = 'Speedup vs. Serial'\n",
    "\n",
    "data = []\n",
    "for j in range(len(formats)):\n",
    "    fmt = formats[j]\n",
    "    ser = sub.loc[sub['Format'] == fmt]\n",
    "\n",
    "    # Create a trace\n",
    "    trace = go.Bar(\n",
    "        x=ser[xcol],\n",
    "        y=ser[ycol],\n",
    "        name=fmt,\n",
    "        marker=dict(\n",
    "            color=colors[j]\n",
    "        ),\n",
    "    )\n",
    "\n",
    "    data.append(trace)\n",
    "\n",
    "layout = go.Layout(\n",
    "    xaxis=dict(tickangle=-45,\n",
    "               title=xtitle),\n",
    "    yaxis=dict(#range=[0,250],\n",
    "               title=ytitle),\n",
    "    titlefont=dict(family=font['name'],\n",
    "                   size=font['size'])\n",
    ")\n",
    "\n",
    "fig = go.Figure(data=data, layout=layout)\n",
    "py.iplot(fig, filename='mttkrp_execs')\n"
   ]
  },
  {
   "cell_type": "code",
   "execution_count": 2,
   "metadata": {},
   "outputs": [
    {
     "data": {
      "text/html": [
       "<script type=\"text/javascript\">window.PlotlyConfig = {MathJaxConfig: 'local'};</script><script type=\"text/javascript\">if (window.MathJax) {MathJax.Hub.Config({SVG: {font: \"STIX-Web\"}});}</script><script>requirejs.config({paths: { 'plotly': ['https://cdn.plot.ly/plotly-latest.min']},});if(!window._Plotly) {require(['plotly'],function(plotly) {window._Plotly=plotly;});}</script>"
      ]
     },
     "metadata": {},
     "output_type": "execute_result"
    },
    {
     "data": {
      "text/html": [
       "<div id=\"50312a33-4a9c-4e7a-a631-00f4768483da\" style=\"height: 525px; width: 100%;\" class=\"plotly-graph-div\"></div><script type=\"text/javascript\">require([\"plotly\"], function(Plotly) { window.PLOTLYENV=window.PLOTLYENV || {};window.PLOTLYENV.BASE_URL=\"https://plot.ly\";Plotly.newPlot(\"50312a33-4a9c-4e7a-a631-00f4768483da\", [{\"line\": {\"color\": \"red\", \"width\": 6}, \"marker\": {\"size\": 24, \"symbol\": \"diamond\"}, \"mode\": \"lines+markers\", \"name\": \"COO\", \"x\": [1, 2, 4, 8, 16, 24], \"y\": [1.0, 1.928736821, 3.158968662, 6.996140722000001, 8.418188222000001, 8.568477114], \"type\": \"scatter\", \"uid\": \"edd71af7-2ed4-4407-8aa2-3fa6432570f6\"}, {\"line\": {\"color\": \"green\", \"width\": 6}, \"marker\": {\"size\": 24, \"symbol\": \"square\"}, \"mode\": \"lines+markers\", \"name\": \"CSF\", \"x\": [1, 2, 4, 8, 16, 24], \"y\": [1.0, 1.9295838680000001, 3.67119816, 7.034126431000001, 8.502466215, 8.690299055], \"type\": \"scatter\", \"uid\": \"c2295fdf-c4d6-4b74-9a77-bb46e45f19a8\"}, {\"line\": {\"color\": \"blue\", \"width\": 6}, \"marker\": {\"size\": 24, \"symbol\": \"circle\"}, \"mode\": \"lines+markers\", \"name\": \"HiCOO\", \"x\": [1, 2, 4, 8, 16, 24], \"y\": [1.0, 1.91173273, 3.5954948030000002, 6.601864513, 7.414682768, 7.391916473999999], \"type\": \"scatter\", \"uid\": \"96d1bc95-be8f-4af6-8e67-efcd3e922479\"}], {\"font\": {\"color\": \"black\", \"family\": \"Arial\", \"size\": 24}, \"title\": {\"text\": \"\"}, \"xaxis\": {\"autorange\": true, \"dtick\": 4, \"title\": {\"text\": \"# Threads\"}}, \"yaxis\": {\"autorange\": true, \"dtick\": 2, \"tickfont\": {\"family\": \"Arial\", \"size\": 24}, \"tickprefix\": \"   \", \"title\": {\"text\": \"Speedup\", \"font\": {\"family\": \"Arial\", \"size\": 24}}}}, {\"showLink\": false, \"linkText\": \"Export to plot.ly\", \"plotlyServerURL\": \"https://plot.ly\"})});</script><script type=\"text/javascript\">window.addEventListener(\"resize\", function(){window._Plotly.Plots.resize(document.getElementById(\"50312a33-4a9c-4e7a-a631-00f4768483da\"));});</script>"
      ]
     },
     "metadata": {},
     "output_type": "execute_result"
    }
   ],
   "source": [
    "import pandas as pd\n",
    "import plotly.offline as py\n",
    "import plotly.graph_objs as go\n",
    "\n",
    "%matplotlib inline\n",
    "\n",
    "py.init_notebook_mode(connected=True)\n",
    "\n",
    "df = pd.read_csv('/home/edavis/Work/VarDevEddie/scripts/data/poster_data.csv')\n",
    "\n",
    "nthreads = df['nThreads'].unique()\n",
    "formats = df['Format'].unique()\n",
    "tensor = 'avg'\n",
    "sub = df.loc[df['Tensor'] == tensor]\n",
    "symbols = ['diamond', 'square', 'circle']\n",
    "colors = ['red', 'green', 'blue']\n",
    "xcol = 'nThreads'\n",
    "ycol = 'Speedup'\n",
    "msize = 24\n",
    "lsize = 6\n",
    "fname = 'Arial'\n",
    "fcolor = 'black'\n",
    "fsize = 24\n",
    "dashes = ''\n",
    "\n",
    "data = []\n",
    "for j in range(len(formats)):\n",
    "    ser = sub.loc[sub['Format'] == formats[j]]\n",
    "\n",
    "    # Create a trace\n",
    "    trace = go.Scatter(\n",
    "        x=ser[xcol],\n",
    "        y=ser[ycol],\n",
    "        name=formats[j],\n",
    "        marker=dict(\n",
    "            symbol=symbols[j],\n",
    "            size=msize\n",
    "        ),\n",
    "        mode='lines+markers',\n",
    "        line=dict(\n",
    "            color=colors[j],\n",
    "            width=lsize,\n",
    "            #dash=dashes\n",
    "        )\n",
    "    )\n",
    "\n",
    "    data.append(trace)\n",
    "\n",
    "legendpos = (0.6, 1.0)\n",
    "\n",
    "# Edit the layout\n",
    "layout = dict(\n",
    "    font=dict(family=fname, size=fsize, color=fcolor),\n",
    "    title='', #'Thread Scalability',\n",
    "    #legend=dict(x=legendpos[0], y=legendpos[1]),\n",
    "    #margin=go.Margin(l=100),\n",
    "    xaxis=dict(\n",
    "        title='# Threads',\n",
    "        #type='log',\n",
    "        autorange=True,\n",
    "        #range=[3, 30],\n",
    "        dtick=4\n",
    "    ),\n",
    "    yaxis=dict(\n",
    "        title='Speedup',\n",
    "        #title='Time Reduction (s)',\n",
    "        #type='log',\n",
    "        autorange=True,\n",
    "        dtick=2,\n",
    "        #range=[-0.8,0.8],\n",
    "        #range=[0, 0.5],\n",
    "        tickprefix='   ',\n",
    "        tickfont=dict(\n",
    "            family=fname,\n",
    "            size=fsize),\n",
    "        titlefont=dict(\n",
    "            family=fname,\n",
    "            size=fsize)\n",
    "    )\n",
    ")\n",
    "\n",
    "fig = go.Figure(data=data, layout=layout)\n",
    "py.iplot(fig, filename='tns_format_scale')"
   ]
  },
  {
   "cell_type": "code",
   "execution_count": null,
   "metadata": {
    "collapsed": true
   },
   "outputs": [],
   "source": []
  }
 ],
 "metadata": {
  "kernelspec": {
   "display_name": "Python 3",
   "language": "python",
   "name": "python3"
  },
  "language_info": {
   "codemirror_mode": {
    "name": "ipython",
    "version": 3
   },
   "file_extension": ".py",
   "mimetype": "text/x-python",
   "name": "python",
   "nbconvert_exporter": "python",
   "pygments_lexer": "ipython3",
   "version": "3.6.7"
  }
 },
 "nbformat": 4,
 "nbformat_minor": 2
}
